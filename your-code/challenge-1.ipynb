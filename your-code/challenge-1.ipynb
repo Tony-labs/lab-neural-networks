{
 "cells": [
  {
   "cell_type": "markdown",
   "metadata": {},
   "source": [
    "# Challenge 1 - Tic Tac Toe\n",
    "\n",
    "In this lab you will perform deep learning analysis on a dataset of playing [Tic Tac Toe](https://en.wikipedia.org/wiki/Tic-tac-toe).\n",
    "\n",
    "There are 9 grids in Tic Tac Toe that are coded as the following picture shows:\n",
    "\n",
    "![Tic Tac Toe Grids](tttboard.jpg)\n",
    "\n",
    "In the first 9 columns of the dataset you can find which marks (`x` or `o`) exist in the grids. If there is no mark in a certain grid, it is labeled as `b`. The last column is `class` which tells you whether Player X (who always moves first in Tic Tac Toe) wins in this configuration. Note that when `class` has the value `False`, it means either Player O wins the game or it ends up as a draw."
   ]
  },
  {
   "cell_type": "code",
   "execution_count": 1,
   "metadata": {},
   "outputs": [
    {
     "name": "stderr",
     "output_type": "stream",
     "text": [
      "ERROR: Could not install packages due to an OSError: [WinError 32] The process cannot access the file because it is being used by another process: 'C:\\\\Users\\\\Latif-Calderón\\\\AppData\\\\Local\\\\Programs\\\\Python\\\\Python310\\\\Lib\\\\site-packages\\\\tensorflow\\\\include\\\\external\\\\icu\\\\icu4c\\\\source\\\\common\\\\unicode\\\\appendable.h'\n",
      "Consider using the `--user` option or check the permissions.\n",
      "\n"
     ]
    },
    {
     "name": "stdout",
     "output_type": "stream",
     "text": [
      "Collecting tensorflow\n",
      "  Using cached tensorflow-2.18.0-cp310-cp310-win_amd64.whl.metadata (3.3 kB)\n",
      "Collecting tensorflow-intel==2.18.0 (from tensorflow)\n",
      "  Using cached tensorflow_intel-2.18.0-cp310-cp310-win_amd64.whl.metadata (4.9 kB)\n",
      "Requirement already satisfied: absl-py>=1.0.0 in c:\\users\\latif-calderón\\appdata\\local\\programs\\python\\python310\\lib\\site-packages (from tensorflow-intel==2.18.0->tensorflow) (2.1.0)\n",
      "Requirement already satisfied: astunparse>=1.6.0 in c:\\users\\latif-calderón\\appdata\\local\\programs\\python\\python310\\lib\\site-packages (from tensorflow-intel==2.18.0->tensorflow) (1.6.3)\n",
      "Requirement already satisfied: flatbuffers>=24.3.25 in c:\\users\\latif-calderón\\appdata\\local\\programs\\python\\python310\\lib\\site-packages (from tensorflow-intel==2.18.0->tensorflow) (24.3.25)\n",
      "Requirement already satisfied: gast!=0.5.0,!=0.5.1,!=0.5.2,>=0.2.1 in c:\\users\\latif-calderón\\appdata\\local\\programs\\python\\python310\\lib\\site-packages (from tensorflow-intel==2.18.0->tensorflow) (0.6.0)\n",
      "Requirement already satisfied: google-pasta>=0.1.1 in c:\\users\\latif-calderón\\appdata\\local\\programs\\python\\python310\\lib\\site-packages (from tensorflow-intel==2.18.0->tensorflow) (0.2.0)\n",
      "Requirement already satisfied: libclang>=13.0.0 in c:\\users\\latif-calderón\\appdata\\local\\programs\\python\\python310\\lib\\site-packages (from tensorflow-intel==2.18.0->tensorflow) (18.1.1)\n",
      "Requirement already satisfied: opt-einsum>=2.3.2 in c:\\users\\latif-calderón\\appdata\\local\\programs\\python\\python310\\lib\\site-packages (from tensorflow-intel==2.18.0->tensorflow) (3.4.0)\n",
      "Requirement already satisfied: packaging in c:\\users\\latif-calderón\\appdata\\roaming\\python\\python310\\site-packages (from tensorflow-intel==2.18.0->tensorflow) (24.2)\n",
      "Requirement already satisfied: protobuf!=4.21.0,!=4.21.1,!=4.21.2,!=4.21.3,!=4.21.4,!=4.21.5,<6.0.0dev,>=3.20.3 in c:\\users\\latif-calderón\\appdata\\local\\programs\\python\\python310\\lib\\site-packages (from tensorflow-intel==2.18.0->tensorflow) (5.29.1)\n",
      "Requirement already satisfied: requests<3,>=2.21.0 in c:\\users\\latif-calderón\\appdata\\local\\programs\\python\\python310\\lib\\site-packages (from tensorflow-intel==2.18.0->tensorflow) (2.32.3)\n",
      "Requirement already satisfied: setuptools in c:\\users\\latif-calderón\\appdata\\local\\programs\\python\\python310\\lib\\site-packages (from tensorflow-intel==2.18.0->tensorflow) (57.4.0)\n",
      "Requirement already satisfied: six>=1.12.0 in c:\\users\\latif-calderón\\appdata\\roaming\\python\\python310\\site-packages (from tensorflow-intel==2.18.0->tensorflow) (1.17.0)\n",
      "Requirement already satisfied: termcolor>=1.1.0 in c:\\users\\latif-calderón\\appdata\\local\\programs\\python\\python310\\lib\\site-packages (from tensorflow-intel==2.18.0->tensorflow) (2.5.0)\n",
      "Requirement already satisfied: typing-extensions>=3.6.6 in c:\\users\\latif-calderón\\appdata\\roaming\\python\\python310\\site-packages (from tensorflow-intel==2.18.0->tensorflow) (4.12.2)\n",
      "Requirement already satisfied: wrapt>=1.11.0 in c:\\users\\latif-calderón\\appdata\\local\\programs\\python\\python310\\lib\\site-packages (from tensorflow-intel==2.18.0->tensorflow) (1.17.0)\n",
      "Requirement already satisfied: grpcio<2.0,>=1.24.3 in c:\\users\\latif-calderón\\appdata\\local\\programs\\python\\python310\\lib\\site-packages (from tensorflow-intel==2.18.0->tensorflow) (1.68.1)\n",
      "Requirement already satisfied: tensorboard<2.19,>=2.18 in c:\\users\\latif-calderón\\appdata\\local\\programs\\python\\python310\\lib\\site-packages (from tensorflow-intel==2.18.0->tensorflow) (2.18.0)\n",
      "Requirement already satisfied: keras>=3.5.0 in c:\\users\\latif-calderón\\appdata\\local\\programs\\python\\python310\\lib\\site-packages (from tensorflow-intel==2.18.0->tensorflow) (3.7.0)\n",
      "Requirement already satisfied: numpy<2.1.0,>=1.26.0 in c:\\users\\latif-calderón\\appdata\\local\\programs\\python\\python310\\lib\\site-packages (from tensorflow-intel==2.18.0->tensorflow) (2.0.2)\n",
      "Requirement already satisfied: h5py>=3.11.0 in c:\\users\\latif-calderón\\appdata\\local\\programs\\python\\python310\\lib\\site-packages (from tensorflow-intel==2.18.0->tensorflow) (3.12.1)\n",
      "Requirement already satisfied: ml-dtypes<0.5.0,>=0.4.0 in c:\\users\\latif-calderón\\appdata\\local\\programs\\python\\python310\\lib\\site-packages (from tensorflow-intel==2.18.0->tensorflow) (0.4.1)\n",
      "Requirement already satisfied: tensorflow-io-gcs-filesystem>=0.23.1 in c:\\users\\latif-calderón\\appdata\\local\\programs\\python\\python310\\lib\\site-packages (from tensorflow-intel==2.18.0->tensorflow) (0.31.0)\n",
      "Requirement already satisfied: wheel<1.0,>=0.23.0 in c:\\users\\latif-calderón\\appdata\\local\\programs\\python\\python310\\lib\\site-packages (from astunparse>=1.6.0->tensorflow-intel==2.18.0->tensorflow) (0.45.1)\n",
      "Requirement already satisfied: rich in c:\\users\\latif-calderón\\appdata\\local\\programs\\python\\python310\\lib\\site-packages (from keras>=3.5.0->tensorflow-intel==2.18.0->tensorflow) (13.9.4)\n",
      "Requirement already satisfied: namex in c:\\users\\latif-calderón\\appdata\\local\\programs\\python\\python310\\lib\\site-packages (from keras>=3.5.0->tensorflow-intel==2.18.0->tensorflow) (0.0.8)\n",
      "Requirement already satisfied: optree in c:\\users\\latif-calderón\\appdata\\local\\programs\\python\\python310\\lib\\site-packages (from keras>=3.5.0->tensorflow-intel==2.18.0->tensorflow) (0.13.1)\n",
      "Requirement already satisfied: charset-normalizer<4,>=2 in c:\\users\\latif-calderón\\appdata\\local\\programs\\python\\python310\\lib\\site-packages (from requests<3,>=2.21.0->tensorflow-intel==2.18.0->tensorflow) (3.4.0)\n",
      "Requirement already satisfied: idna<4,>=2.5 in c:\\users\\latif-calderón\\appdata\\local\\programs\\python\\python310\\lib\\site-packages (from requests<3,>=2.21.0->tensorflow-intel==2.18.0->tensorflow) (3.10)\n",
      "Requirement already satisfied: urllib3<3,>=1.21.1 in c:\\users\\latif-calderón\\appdata\\local\\programs\\python\\python310\\lib\\site-packages (from requests<3,>=2.21.0->tensorflow-intel==2.18.0->tensorflow) (2.2.3)\n",
      "Requirement already satisfied: certifi>=2017.4.17 in c:\\users\\latif-calderón\\appdata\\local\\programs\\python\\python310\\lib\\site-packages (from requests<3,>=2.21.0->tensorflow-intel==2.18.0->tensorflow) (2024.8.30)\n",
      "Requirement already satisfied: markdown>=2.6.8 in c:\\users\\latif-calderón\\appdata\\local\\programs\\python\\python310\\lib\\site-packages (from tensorboard<2.19,>=2.18->tensorflow-intel==2.18.0->tensorflow) (3.7)\n",
      "Requirement already satisfied: tensorboard-data-server<0.8.0,>=0.7.0 in c:\\users\\latif-calderón\\appdata\\local\\programs\\python\\python310\\lib\\site-packages (from tensorboard<2.19,>=2.18->tensorflow-intel==2.18.0->tensorflow) (0.7.2)\n",
      "Requirement already satisfied: werkzeug>=1.0.1 in c:\\users\\latif-calderón\\appdata\\local\\programs\\python\\python310\\lib\\site-packages (from tensorboard<2.19,>=2.18->tensorflow-intel==2.18.0->tensorflow) (3.1.3)\n",
      "Requirement already satisfied: MarkupSafe>=2.1.1 in c:\\users\\latif-calderón\\appdata\\local\\programs\\python\\python310\\lib\\site-packages (from werkzeug>=1.0.1->tensorboard<2.19,>=2.18->tensorflow-intel==2.18.0->tensorflow) (3.0.2)\n",
      "Requirement already satisfied: markdown-it-py>=2.2.0 in c:\\users\\latif-calderón\\appdata\\local\\programs\\python\\python310\\lib\\site-packages (from rich->keras>=3.5.0->tensorflow-intel==2.18.0->tensorflow) (3.0.0)\n",
      "Requirement already satisfied: pygments<3.0.0,>=2.13.0 in c:\\users\\latif-calderón\\appdata\\roaming\\python\\python310\\site-packages (from rich->keras>=3.5.0->tensorflow-intel==2.18.0->tensorflow) (2.18.0)\n",
      "Requirement already satisfied: mdurl~=0.1 in c:\\users\\latif-calderón\\appdata\\local\\programs\\python\\python310\\lib\\site-packages (from markdown-it-py>=2.2.0->rich->keras>=3.5.0->tensorflow-intel==2.18.0->tensorflow) (0.1.2)\n",
      "Using cached tensorflow-2.18.0-cp310-cp310-win_amd64.whl (7.5 kB)\n",
      "Using cached tensorflow_intel-2.18.0-cp310-cp310-win_amd64.whl (390.0 MB)\n",
      "Installing collected packages: tensorflow-intel, tensorflow\n"
     ]
    }
   ],
   "source": [
    "!pip install tensorflow"
   ]
  },
  {
   "cell_type": "code",
   "execution_count": 2,
   "metadata": {},
   "outputs": [
    {
     "name": "stdout",
     "output_type": "stream",
     "text": [
      "Requirement already satisfied: keras in c:\\users\\latif-calderón\\appdata\\local\\programs\\python\\python310\\lib\\site-packages (3.7.0)\n",
      "Requirement already satisfied: absl-py in c:\\users\\latif-calderón\\appdata\\local\\programs\\python\\python310\\lib\\site-packages (from keras) (2.1.0)\n",
      "Requirement already satisfied: numpy in c:\\users\\latif-calderón\\appdata\\local\\programs\\python\\python310\\lib\\site-packages (from keras) (2.0.2)\n",
      "Requirement already satisfied: rich in c:\\users\\latif-calderón\\appdata\\local\\programs\\python\\python310\\lib\\site-packages (from keras) (13.9.4)\n",
      "Requirement already satisfied: namex in c:\\users\\latif-calderón\\appdata\\local\\programs\\python\\python310\\lib\\site-packages (from keras) (0.0.8)\n",
      "Requirement already satisfied: h5py in c:\\users\\latif-calderón\\appdata\\local\\programs\\python\\python310\\lib\\site-packages (from keras) (3.12.1)\n",
      "Requirement already satisfied: optree in c:\\users\\latif-calderón\\appdata\\local\\programs\\python\\python310\\lib\\site-packages (from keras) (0.13.1)\n",
      "Requirement already satisfied: ml-dtypes in c:\\users\\latif-calderón\\appdata\\local\\programs\\python\\python310\\lib\\site-packages (from keras) (0.4.1)\n",
      "Requirement already satisfied: packaging in c:\\users\\latif-calderón\\appdata\\roaming\\python\\python310\\site-packages (from keras) (24.2)\n",
      "Requirement already satisfied: typing-extensions>=4.5.0 in c:\\users\\latif-calderón\\appdata\\roaming\\python\\python310\\site-packages (from optree->keras) (4.12.2)\n",
      "Requirement already satisfied: markdown-it-py>=2.2.0 in c:\\users\\latif-calderón\\appdata\\local\\programs\\python\\python310\\lib\\site-packages (from rich->keras) (3.0.0)\n",
      "Requirement already satisfied: pygments<3.0.0,>=2.13.0 in c:\\users\\latif-calderón\\appdata\\roaming\\python\\python310\\site-packages (from rich->keras) (2.18.0)\n",
      "Requirement already satisfied: mdurl~=0.1 in c:\\users\\latif-calderón\\appdata\\local\\programs\\python\\python310\\lib\\site-packages (from markdown-it-py>=2.2.0->rich->keras) (0.1.2)\n"
     ]
    }
   ],
   "source": [
    "!pip install keras"
   ]
  },
  {
   "cell_type": "markdown",
   "metadata": {},
   "source": [
    "Follow the steps suggested below to conduct a neural network analysis using Tensorflow and Keras. You will build a deep learning model to predict whether Player X wins the game or not.\n",
    "\n",
    "## Step 1: Data Engineering\n",
    "\n",
    "This dataset is almost in the ready-to-use state so you do not need to worry about missing values and so on. Still, some simple data engineering is needed.\n",
    "\n",
    "1. Read `tic-tac-toe.csv` into a dataframe.\n",
    "1. Inspect the dataset. Determine if the dataset is reliable by eyeballing the data.\n",
    "1. Convert the categorical values to numeric in all columns.\n",
    "1. Separate the inputs and output.\n",
    "1. Normalize the input data."
   ]
  },
  {
   "cell_type": "code",
   "execution_count": 16,
   "metadata": {},
   "outputs": [
    {
     "name": "stdout",
     "output_type": "stream",
     "text": [
      "  TL TM TR ML MM MR BL BM BR  class\n",
      "0  x  x  x  x  o  o  x  o  o   True\n",
      "1  x  x  x  x  o  o  o  x  o   True\n",
      "2  x  x  x  x  o  o  o  o  x   True\n",
      "3  x  x  x  x  o  o  o  b  b   True\n",
      "4  x  x  x  x  o  o  b  o  b   True\n"
     ]
    }
   ],
   "source": [
    "# your code here\n",
    "import pandas as pd\n",
    "\n",
    "# 1.Read the dataset into a DataFrame\n",
    "tic_tac_toe_data = pd.read_csv('tic-tac-toe.csv')\n",
    "\n",
    "# 2. Display the first few rows of the dataset to determine reliability\n",
    "print(tic_tac_toe_data.head())"
   ]
  },
  {
   "cell_type": "code",
   "execution_count": 17,
   "metadata": {},
   "outputs": [
    {
     "name": "stdout",
     "output_type": "stream",
     "text": [
      "   TL  TM  TR  ML  MM  MR  BL  BM  BR  class\n",
      "0   2   2   2   2   1   1   2   1   1      1\n",
      "1   2   2   2   2   1   1   1   2   1      1\n",
      "2   2   2   2   2   1   1   1   1   2      1\n",
      "3   2   2   2   2   1   1   1   0   0      1\n",
      "4   2   2   2   2   1   1   0   1   0      1\n"
     ]
    }
   ],
   "source": [
    "# Convert categorical values to numeric using LabelEncoder\n",
    "from sklearn.preprocessing import LabelEncoder\n",
    "\n",
    "label_encoder = LabelEncoder()\n",
    "tic_tac_toe_data = tic_tac_toe_data.apply(lambda col: label_encoder.fit_transform(col))\n",
    "# Display the transformed dataset\n",
    "print(tic_tac_toe_data.head())"
   ]
  },
  {
   "cell_type": "code",
   "execution_count": 18,
   "metadata": {},
   "outputs": [
    {
     "name": "stdout",
     "output_type": "stream",
     "text": [
      "Inputs (X):\n",
      "   TL  TM  TR  ML  MM  MR  BL  BM  BR\n",
      "0   2   2   2   2   1   1   2   1   1\n",
      "1   2   2   2   2   1   1   1   2   1\n",
      "2   2   2   2   2   1   1   1   1   2\n",
      "3   2   2   2   2   1   1   1   0   0\n",
      "4   2   2   2   2   1   1   0   1   0\n",
      "\n",
      "Output (y):\n",
      "   class\n",
      "0      1\n",
      "1      1\n",
      "2      1\n",
      "3      1\n",
      "4      1\n"
     ]
    }
   ],
   "source": [
    "# 4. # Separate the inputs (X) and output (y) based on the provided column names\n",
    "input_columns = ['TL', 'TM', 'TR', 'ML', 'MM', 'MR', 'BL', 'BM', 'BR']\n",
    "output_column = ['class']\n",
    "\n",
    "X = tic_tac_toe_data[input_columns]\n",
    "#tic_tac_toe_data ['class']\n",
    "y = tic_tac_toe_data[output_column]\n",
    "\n",
    "# View the separated inputs (X) and output (y)\n",
    "print(\"Inputs (X):\")\n",
    "print(X.head())\n",
    "\n",
    "print(\"\\nOutput (y):\")\n",
    "print(y.head())"
   ]
  },
  {
   "cell_type": "code",
   "execution_count": 19,
   "metadata": {},
   "outputs": [
    {
     "name": "stdout",
     "output_type": "stream",
     "text": [
      "[[ 1.00322257  1.08495342  1.00322257  1.08495342 -0.42007679 -0.16731812\n",
      "   1.00322257 -0.16731812 -0.28682739]\n",
      " [ 1.00322257  1.08495342  1.00322257  1.08495342 -0.42007679 -0.16731812\n",
      "  -0.28682739  1.08495342 -0.28682739]\n",
      " [ 1.00322257  1.08495342  1.00322257  1.08495342 -0.42007679 -0.16731812\n",
      "  -0.28682739 -0.16731812  1.00322257]\n",
      " [ 1.00322257  1.08495342  1.00322257  1.08495342 -0.42007679 -0.16731812\n",
      "  -0.28682739 -1.41958965 -1.57687736]\n",
      " [ 1.00322257  1.08495342  1.00322257  1.08495342 -0.42007679 -0.16731812\n",
      "  -1.57687736 -0.16731812 -1.57687736]]\n"
     ]
    }
   ],
   "source": [
    "# 5. Normalize the input data using StandardScaler\n",
    "from sklearn.preprocessing import StandardScaler\n",
    "\n",
    "scaler = StandardScaler()\n",
    "X_normalized = scaler.fit_transform(X)\n",
    "# Print the first few rows of the normalized data\n",
    "print(X_normalized[:5])  # Assuming you want to view the first 5 rows"
   ]
  },
  {
   "cell_type": "markdown",
   "metadata": {},
   "source": [
    "## Step 2: Build Neural Network\n",
    "\n",
    "To build the neural network, you can refer to your own codes you wrote while following the [Deep Learning with Python, TensorFlow, and Keras tutorial](https://www.youtube.com/watch?v=wQ8BIBpya2k) in the lesson. It's pretty similar to what you will be doing in this lab.\n",
    "\n",
    "1. Split the training and test data.\n",
    "1. Create a `Sequential` model.\n",
    "1. Add several layers to your model. Make sure you use ReLU as the activation function for the middle layers. Use Softmax for the output layer because each output has a single lable and all the label probabilities add up to 1.\n",
    "1. Compile the model using `adam` as the optimizer and `sparse_categorical_crossentropy` as the loss function. For metrics, use `accuracy` for now.\n",
    "1. Fit the training data.\n",
    "1. Evaluate your neural network model with the test data.\n",
    "1. Save your model as `tic-tac-toe.keras`."
   ]
  },
  {
   "cell_type": "code",
   "execution_count": 20,
   "metadata": {},
   "outputs": [
    {
     "name": "stdout",
     "output_type": "stream",
     "text": [
      "X_train shape: (766, 9)\n",
      "X_test shape: (192, 9)\n",
      "y_train shape: (766, 1)\n",
      "y_test shape: (192, 1)\n"
     ]
    }
   ],
   "source": [
    "from sklearn.model_selection import train_test_split\n",
    "\n",
    "# Split the data into training and testing sets\n",
    "X_train, X_test, y_train, y_test = train_test_split(X_normalized, y, test_size=0.2, random_state=42)\n",
    "##use the train_test_split function to split the normalized input data (X_normalized) and the output data (y) into training and testing sets. The test_size parameter specifies the proportion of the dataset to include in the testing set.\n",
    "\n",
    "# Display the shapes of the training and testing sets\n",
    "print(\"X_train shape:\", X_train.shape)\n",
    "print(\"X_test shape:\", X_test.shape)\n",
    "print(\"y_train shape:\", y_train.shape)\n",
    "print(\"y_test shape:\", y_test.shape)"
   ]
  },
  {
   "cell_type": "code",
   "execution_count": 21,
   "metadata": {},
   "outputs": [],
   "source": [
    "#2\n",
    "from tensorflow.keras.models import Sequential\n",
    "\n",
    "# Create a Sequential model\n",
    "model = Sequential()"
   ]
  },
  {
   "cell_type": "code",
   "execution_count": 22,
   "metadata": {},
   "outputs": [
    {
     "data": {
      "text/html": [
       "<pre style=\"white-space:pre;overflow-x:auto;line-height:normal;font-family:Menlo,'DejaVu Sans Mono',consolas,'Courier New',monospace\"><span style=\"font-weight: bold\">Model: \"sequential_1\"</span>\n",
       "</pre>\n"
      ],
      "text/plain": [
       "\u001b[1mModel: \"sequential_1\"\u001b[0m\n"
      ]
     },
     "metadata": {},
     "output_type": "display_data"
    },
    {
     "data": {
      "text/html": [
       "<pre style=\"white-space:pre;overflow-x:auto;line-height:normal;font-family:Menlo,'DejaVu Sans Mono',consolas,'Courier New',monospace\">┏━━━━━━━━━━━━━━━━━━━━━━━━━━━━━━━━━┳━━━━━━━━━━━━━━━━━━━━━━━━┳━━━━━━━━━━━━━━━┓\n",
       "┃<span style=\"font-weight: bold\"> Layer (type)                    </span>┃<span style=\"font-weight: bold\"> Output Shape           </span>┃<span style=\"font-weight: bold\">       Param # </span>┃\n",
       "┡━━━━━━━━━━━━━━━━━━━━━━━━━━━━━━━━━╇━━━━━━━━━━━━━━━━━━━━━━━━╇━━━━━━━━━━━━━━━┩\n",
       "└─────────────────────────────────┴────────────────────────┴───────────────┘\n",
       "</pre>\n"
      ],
      "text/plain": [
       "┏━━━━━━━━━━━━━━━━━━━━━━━━━━━━━━━━━┳━━━━━━━━━━━━━━━━━━━━━━━━┳━━━━━━━━━━━━━━━┓\n",
       "┃\u001b[1m \u001b[0m\u001b[1mLayer (type)                   \u001b[0m\u001b[1m \u001b[0m┃\u001b[1m \u001b[0m\u001b[1mOutput Shape          \u001b[0m\u001b[1m \u001b[0m┃\u001b[1m \u001b[0m\u001b[1m      Param #\u001b[0m\u001b[1m \u001b[0m┃\n",
       "┡━━━━━━━━━━━━━━━━━━━━━━━━━━━━━━━━━╇━━━━━━━━━━━━━━━━━━━━━━━━╇━━━━━━━━━━━━━━━┩\n",
       "└─────────────────────────────────┴────────────────────────┴───────────────┘\n"
      ]
     },
     "metadata": {},
     "output_type": "display_data"
    },
    {
     "data": {
      "text/html": [
       "<pre style=\"white-space:pre;overflow-x:auto;line-height:normal;font-family:Menlo,'DejaVu Sans Mono',consolas,'Courier New',monospace\"><span style=\"font-weight: bold\"> Total params: </span><span style=\"color: #00af00; text-decoration-color: #00af00\">0</span> (0.00 B)\n",
       "</pre>\n"
      ],
      "text/plain": [
       "\u001b[1m Total params: \u001b[0m\u001b[38;5;34m0\u001b[0m (0.00 B)\n"
      ]
     },
     "metadata": {},
     "output_type": "display_data"
    },
    {
     "data": {
      "text/html": [
       "<pre style=\"white-space:pre;overflow-x:auto;line-height:normal;font-family:Menlo,'DejaVu Sans Mono',consolas,'Courier New',monospace\"><span style=\"font-weight: bold\"> Trainable params: </span><span style=\"color: #00af00; text-decoration-color: #00af00\">0</span> (0.00 B)\n",
       "</pre>\n"
      ],
      "text/plain": [
       "\u001b[1m Trainable params: \u001b[0m\u001b[38;5;34m0\u001b[0m (0.00 B)\n"
      ]
     },
     "metadata": {},
     "output_type": "display_data"
    },
    {
     "data": {
      "text/html": [
       "<pre style=\"white-space:pre;overflow-x:auto;line-height:normal;font-family:Menlo,'DejaVu Sans Mono',consolas,'Courier New',monospace\"><span style=\"font-weight: bold\"> Non-trainable params: </span><span style=\"color: #00af00; text-decoration-color: #00af00\">0</span> (0.00 B)\n",
       "</pre>\n"
      ],
      "text/plain": [
       "\u001b[1m Non-trainable params: \u001b[0m\u001b[38;5;34m0\u001b[0m (0.00 B)\n"
      ]
     },
     "metadata": {},
     "output_type": "display_data"
    }
   ],
   "source": [
    "# After adding layers to the model\n",
    "model.summary()"
   ]
  },
  {
   "cell_type": "code",
   "execution_count": 23,
   "metadata": {},
   "outputs": [
    {
     "name": "stderr",
     "output_type": "stream",
     "text": [
      "c:\\Users\\Latif-Calderón\\AppData\\Local\\Programs\\Python\\Python310\\lib\\site-packages\\keras\\src\\layers\\core\\dense.py:87: UserWarning: Do not pass an `input_shape`/`input_dim` argument to a layer. When using Sequential models, prefer using an `Input(shape)` object as the first layer in the model instead.\n",
      "  super().__init__(activity_regularizer=activity_regularizer, **kwargs)\n"
     ]
    }
   ],
   "source": [
    "#3. \n",
    "from tensorflow.keras.layers import Dense\n",
    "\n",
    "# Add layers to the Sequential model\n",
    "## channge hyperparameters to fintune the algorithm 64/100\n",
    "model.add(Dense(units=64, activation='relu', input_shape=(100,)))  # Example input_shape assuming the number of input features\n",
    "model.add(Dense(units=32, activation='relu'))\n",
    "# Add the output layer with Softmax activation for multi-class classification\n",
    "model.add(Dense(units=3, activation='softmax'))  # Example num_classes representing the number of output classes"
   ]
  },
  {
   "cell_type": "code",
   "execution_count": 24,
   "metadata": {},
   "outputs": [
    {
     "data": {
      "text/html": [
       "<pre style=\"white-space:pre;overflow-x:auto;line-height:normal;font-family:Menlo,'DejaVu Sans Mono',consolas,'Courier New',monospace\"><span style=\"font-weight: bold\">Model: \"sequential_1\"</span>\n",
       "</pre>\n"
      ],
      "text/plain": [
       "\u001b[1mModel: \"sequential_1\"\u001b[0m\n"
      ]
     },
     "metadata": {},
     "output_type": "display_data"
    },
    {
     "data": {
      "text/html": [
       "<pre style=\"white-space:pre;overflow-x:auto;line-height:normal;font-family:Menlo,'DejaVu Sans Mono',consolas,'Courier New',monospace\">┏━━━━━━━━━━━━━━━━━━━━━━━━━━━━━━━━━┳━━━━━━━━━━━━━━━━━━━━━━━━┳━━━━━━━━━━━━━━━┓\n",
       "┃<span style=\"font-weight: bold\"> Layer (type)                    </span>┃<span style=\"font-weight: bold\"> Output Shape           </span>┃<span style=\"font-weight: bold\">       Param # </span>┃\n",
       "┡━━━━━━━━━━━━━━━━━━━━━━━━━━━━━━━━━╇━━━━━━━━━━━━━━━━━━━━━━━━╇━━━━━━━━━━━━━━━┩\n",
       "│ dense_5 (<span style=\"color: #0087ff; text-decoration-color: #0087ff\">Dense</span>)                 │ (<span style=\"color: #00d7ff; text-decoration-color: #00d7ff\">None</span>, <span style=\"color: #00af00; text-decoration-color: #00af00\">64</span>)             │         <span style=\"color: #00af00; text-decoration-color: #00af00\">6,464</span> │\n",
       "├─────────────────────────────────┼────────────────────────┼───────────────┤\n",
       "│ dense_6 (<span style=\"color: #0087ff; text-decoration-color: #0087ff\">Dense</span>)                 │ (<span style=\"color: #00d7ff; text-decoration-color: #00d7ff\">None</span>, <span style=\"color: #00af00; text-decoration-color: #00af00\">32</span>)             │         <span style=\"color: #00af00; text-decoration-color: #00af00\">2,080</span> │\n",
       "├─────────────────────────────────┼────────────────────────┼───────────────┤\n",
       "│ dense_7 (<span style=\"color: #0087ff; text-decoration-color: #0087ff\">Dense</span>)                 │ (<span style=\"color: #00d7ff; text-decoration-color: #00d7ff\">None</span>, <span style=\"color: #00af00; text-decoration-color: #00af00\">3</span>)              │            <span style=\"color: #00af00; text-decoration-color: #00af00\">99</span> │\n",
       "└─────────────────────────────────┴────────────────────────┴───────────────┘\n",
       "</pre>\n"
      ],
      "text/plain": [
       "┏━━━━━━━━━━━━━━━━━━━━━━━━━━━━━━━━━┳━━━━━━━━━━━━━━━━━━━━━━━━┳━━━━━━━━━━━━━━━┓\n",
       "┃\u001b[1m \u001b[0m\u001b[1mLayer (type)                   \u001b[0m\u001b[1m \u001b[0m┃\u001b[1m \u001b[0m\u001b[1mOutput Shape          \u001b[0m\u001b[1m \u001b[0m┃\u001b[1m \u001b[0m\u001b[1m      Param #\u001b[0m\u001b[1m \u001b[0m┃\n",
       "┡━━━━━━━━━━━━━━━━━━━━━━━━━━━━━━━━━╇━━━━━━━━━━━━━━━━━━━━━━━━╇━━━━━━━━━━━━━━━┩\n",
       "│ dense_5 (\u001b[38;5;33mDense\u001b[0m)                 │ (\u001b[38;5;45mNone\u001b[0m, \u001b[38;5;34m64\u001b[0m)             │         \u001b[38;5;34m6,464\u001b[0m │\n",
       "├─────────────────────────────────┼────────────────────────┼───────────────┤\n",
       "│ dense_6 (\u001b[38;5;33mDense\u001b[0m)                 │ (\u001b[38;5;45mNone\u001b[0m, \u001b[38;5;34m32\u001b[0m)             │         \u001b[38;5;34m2,080\u001b[0m │\n",
       "├─────────────────────────────────┼────────────────────────┼───────────────┤\n",
       "│ dense_7 (\u001b[38;5;33mDense\u001b[0m)                 │ (\u001b[38;5;45mNone\u001b[0m, \u001b[38;5;34m3\u001b[0m)              │            \u001b[38;5;34m99\u001b[0m │\n",
       "└─────────────────────────────────┴────────────────────────┴───────────────┘\n"
      ]
     },
     "metadata": {},
     "output_type": "display_data"
    },
    {
     "data": {
      "text/html": [
       "<pre style=\"white-space:pre;overflow-x:auto;line-height:normal;font-family:Menlo,'DejaVu Sans Mono',consolas,'Courier New',monospace\"><span style=\"font-weight: bold\"> Total params: </span><span style=\"color: #00af00; text-decoration-color: #00af00\">8,643</span> (33.76 KB)\n",
       "</pre>\n"
      ],
      "text/plain": [
       "\u001b[1m Total params: \u001b[0m\u001b[38;5;34m8,643\u001b[0m (33.76 KB)\n"
      ]
     },
     "metadata": {},
     "output_type": "display_data"
    },
    {
     "data": {
      "text/html": [
       "<pre style=\"white-space:pre;overflow-x:auto;line-height:normal;font-family:Menlo,'DejaVu Sans Mono',consolas,'Courier New',monospace\"><span style=\"font-weight: bold\"> Trainable params: </span><span style=\"color: #00af00; text-decoration-color: #00af00\">8,643</span> (33.76 KB)\n",
       "</pre>\n"
      ],
      "text/plain": [
       "\u001b[1m Trainable params: \u001b[0m\u001b[38;5;34m8,643\u001b[0m (33.76 KB)\n"
      ]
     },
     "metadata": {},
     "output_type": "display_data"
    },
    {
     "data": {
      "text/html": [
       "<pre style=\"white-space:pre;overflow-x:auto;line-height:normal;font-family:Menlo,'DejaVu Sans Mono',consolas,'Courier New',monospace\"><span style=\"font-weight: bold\"> Non-trainable params: </span><span style=\"color: #00af00; text-decoration-color: #00af00\">0</span> (0.00 B)\n",
       "</pre>\n"
      ],
      "text/plain": [
       "\u001b[1m Non-trainable params: \u001b[0m\u001b[38;5;34m0\u001b[0m (0.00 B)\n"
      ]
     },
     "metadata": {},
     "output_type": "display_data"
    }
   ],
   "source": [
    "model.summary()"
   ]
  },
  {
   "cell_type": "code",
   "execution_count": 25,
   "metadata": {},
   "outputs": [],
   "source": [
    "#4. # Compile the model\n",
    "model.compile(optimizer='adam', loss='sparse_categorical_crossentropy', metrics=['accuracy'])"
   ]
  },
  {
   "cell_type": "markdown",
   "metadata": {},
   "source": [
    "In this code, the compile method configures the learning process for the model by specifying the optimizer, loss function, and metrics. Here, 'adam' is used as the optimizer, 'sparse_categorical_crossentropy' as the loss function, and 'accuracy' as the metric for evaluating the model's performance.\n",
    "\n",
    "By compiling the model in this way, you prepare it for training and specify the metrics that will be utilized for assessing its performance on the training and validation data."
   ]
  },
  {
   "cell_type": "code",
   "execution_count": null,
   "metadata": {},
   "outputs": [
    {
     "name": "stdout",
     "output_type": "stream",
     "text": [
      "Epoch 1/10\n",
      "\u001b[1m24/24\u001b[0m \u001b[32m━━━━━━━━━━━━━━━━━━━━\u001b[0m\u001b[37m\u001b[0m \u001b[1m5s\u001b[0m 20ms/step - accuracy: 0.1571 - loss: 2.5549 - val_accuracy: 0.6406 - val_loss: 1.7924\n",
      "Epoch 2/10\n",
      "\u001b[1m24/24\u001b[0m \u001b[32m━━━━━━━━━━━━━━━━━━━━\u001b[0m\u001b[37m\u001b[0m \u001b[1m0s\u001b[0m 5ms/step - accuracy: 0.6716 - loss: 1.5525 - val_accuracy: 0.6510 - val_loss: 1.0757\n",
      "Epoch 3/10\n",
      "\u001b[1m24/24\u001b[0m \u001b[32m━━━━━━━━━━━━━━━━━━━━\u001b[0m\u001b[37m\u001b[0m \u001b[1m0s\u001b[0m 5ms/step - accuracy: 0.6501 - loss: 0.9677 - val_accuracy: 0.6615 - val_loss: 0.7451\n",
      "Epoch 4/10\n",
      "\u001b[1m24/24\u001b[0m \u001b[32m━━━━━━━━━━━━━━━━━━━━\u001b[0m\u001b[37m\u001b[0m \u001b[1m0s\u001b[0m 6ms/step - accuracy: 0.6698 - loss: 0.6965 - val_accuracy: 0.6823 - val_loss: 0.6508\n",
      "Epoch 5/10\n",
      "\u001b[1m24/24\u001b[0m \u001b[32m━━━━━━━━━━━━━━━━━━━━\u001b[0m\u001b[37m\u001b[0m \u001b[1m0s\u001b[0m 5ms/step - accuracy: 0.7052 - loss: 0.5982 - val_accuracy: 0.6927 - val_loss: 0.6136\n",
      "Epoch 6/10\n",
      "\u001b[1m24/24\u001b[0m \u001b[32m━━━━━━━━━━━━━━━━━━━━\u001b[0m\u001b[37m\u001b[0m \u001b[1m0s\u001b[0m 5ms/step - accuracy: 0.7277 - loss: 0.5729 - val_accuracy: 0.7031 - val_loss: 0.5927\n",
      "Epoch 7/10\n",
      "\u001b[1m24/24\u001b[0m \u001b[32m━━━━━━━━━━━━━━━━━━━━\u001b[0m\u001b[37m\u001b[0m \u001b[1m0s\u001b[0m 5ms/step - accuracy: 0.7544 - loss: 0.5431 - val_accuracy: 0.7188 - val_loss: 0.5756\n",
      "Epoch 8/10\n",
      "\u001b[1m24/24\u001b[0m \u001b[32m━━━━━━━━━━━━━━━━━━━━\u001b[0m\u001b[37m\u001b[0m \u001b[1m0s\u001b[0m 5ms/step - accuracy: 0.7852 - loss: 0.5125 - val_accuracy: 0.7500 - val_loss: 0.5567\n",
      "Epoch 9/10\n",
      "\u001b[1m24/24\u001b[0m \u001b[32m━━━━━━━━━━━━━━━━━━━━\u001b[0m\u001b[37m\u001b[0m \u001b[1m0s\u001b[0m 5ms/step - accuracy: 0.7894 - loss: 0.4820 - val_accuracy: 0.7552 - val_loss: 0.5451\n",
      "Epoch 10/10\n",
      "\u001b[1m24/24\u001b[0m \u001b[32m━━━━━━━━━━━━━━━━━━━━\u001b[0m\u001b[37m\u001b[0m \u001b[1m0s\u001b[0m 6ms/step - accuracy: 0.7924 - loss: 0.5005 - val_accuracy: 0.7448 - val_loss: 0.5312\n"
     ]
    }
   ],
   "source": [
    "#5. Fit the training data.\n",
    "# Example of defining the model with the first layer specifying the input shape\n",
    "from tensorflow.keras.models import Sequential\n",
    "from tensorflow.keras.layers import Dense\n",
    "\n",
    "input_shape = X_train.shape[1]  # Determining the input shape based on the number of features\n",
    "\n",
    "model = Sequential([\n",
    "    Dense(64, activation='relu', input_shape=(input_shape,)),\n",
    "    Dense(32, activation='relu'),\n",
    "    Dense(16, activation='softmax')\n",
    "])\n",
    "\n",
    "# Compile the model\n",
    "model.compile(optimizer='adam', loss='sparse_categorical_crossentropy', metrics=['accuracy'])\n",
    "\n",
    "# Fit the model to the training data\n",
    "history = model.fit(X_train, y_train, epochs=10, validation_data=(X_test, y_test))"
   ]
  },
  {
   "cell_type": "markdown",
   "metadata": {},
   "source": [
    " fit method trains the model using the training data over a specified number of epochs. Additionally, the validation_data parameter allows you to monitor the model's performance on the validation set during training.\n",
    "\n",
    "After fitting the model, the training history is typically stored in the history variable, which can be used to visualize the model's training and validation metrics over the epochs."
   ]
  },
  {
   "cell_type": "code",
   "execution_count": 30,
   "metadata": {},
   "outputs": [
    {
     "name": "stdout",
     "output_type": "stream",
     "text": [
      "\u001b[1m6/6\u001b[0m \u001b[32m━━━━━━━━━━━━━━━━━━━━\u001b[0m\u001b[37m\u001b[0m \u001b[1m0s\u001b[0m 6ms/step - accuracy: 0.7315 - loss: 0.5371 \n",
      "Test accuracy: 0.7448\n",
      "Test loss: 0.5312\n"
     ]
    }
   ],
   "source": [
    "#6. Evaluate your neural network model with the test data.\n",
    "loss, accuracy = model.evaluate(X_test, y_test)\n",
    "\n",
    "print(f'Test accuracy: {accuracy:.4f}')\n",
    "print(f'Test loss: {loss:.4f}')"
   ]
  },
  {
   "cell_type": "markdown",
   "metadata": {},
   "source": [
    "By calling the evaluate method with the test data, you can obtain the test accuracy and loss, providing insight into the model's performance on unseen data."
   ]
  },
  {
   "cell_type": "code",
   "execution_count": 33,
   "metadata": {},
   "outputs": [],
   "source": [
    "# your code here\n",
    "# Save the model as tic-tac-toe.model\n",
    "model.save('tic-tac-toe.keras')"
   ]
  },
  {
   "cell_type": "markdown",
   "metadata": {},
   "source": [
    "## Step 3: Make Predictions\n",
    "\n",
    "Now load your saved model and use it to make predictions on a few random rows in the test dataset. Check if the predictions are correct."
   ]
  },
  {
   "cell_type": "code",
   "execution_count": 44,
   "metadata": {},
   "outputs": [
    {
     "name": "stdout",
     "output_type": "stream",
     "text": [
      "\u001b[1m6/6\u001b[0m \u001b[32m━━━━━━━━━━━━━━━━━━━━\u001b[0m\u001b[37m\u001b[0m \u001b[1m0s\u001b[0m 6ms/step \n",
      "Predicted: 1, Actual: class    0\n",
      "Name: 0, dtype: int64\n",
      "Predicted: 1, Actual: class    1\n",
      "Name: 1, dtype: int64\n",
      "Predicted: 1, Actual: class    1\n",
      "Name: 2, dtype: int64\n",
      "Predicted: 1, Actual: class    0\n",
      "Name: 3, dtype: int64\n",
      "Predicted: 0, Actual: class    0\n",
      "Name: 4, dtype: int64\n",
      "Predicted: 1, Actual: class    1\n",
      "Name: 5, dtype: int64\n",
      "Predicted: 1, Actual: class    1\n",
      "Name: 6, dtype: int64\n",
      "Predicted: 1, Actual: class    1\n",
      "Name: 7, dtype: int64\n",
      "Predicted: 1, Actual: class    1\n",
      "Name: 8, dtype: int64\n",
      "Predicted: 1, Actual: class    0\n",
      "Name: 9, dtype: int64\n",
      "Predicted: 1, Actual: class    1\n",
      "Name: 10, dtype: int64\n",
      "Predicted: 1, Actual: class    1\n",
      "Name: 11, dtype: int64\n",
      "Predicted: 1, Actual: class    1\n",
      "Name: 12, dtype: int64\n",
      "Predicted: 0, Actual: class    0\n",
      "Name: 13, dtype: int64\n",
      "Predicted: 1, Actual: class    1\n",
      "Name: 14, dtype: int64\n",
      "Predicted: 1, Actual: class    1\n",
      "Name: 15, dtype: int64\n",
      "Predicted: 1, Actual: class    1\n",
      "Name: 16, dtype: int64\n",
      "Predicted: 1, Actual: class    1\n",
      "Name: 17, dtype: int64\n",
      "Predicted: 1, Actual: class    0\n",
      "Name: 18, dtype: int64\n",
      "Predicted: 1, Actual: class    0\n",
      "Name: 19, dtype: int64\n",
      "Predicted: 0, Actual: class    0\n",
      "Name: 20, dtype: int64\n",
      "Predicted: 1, Actual: class    1\n",
      "Name: 21, dtype: int64\n",
      "Predicted: 0, Actual: class    0\n",
      "Name: 22, dtype: int64\n",
      "Predicted: 1, Actual: class    1\n",
      "Name: 23, dtype: int64\n",
      "Predicted: 1, Actual: class    0\n",
      "Name: 24, dtype: int64\n",
      "Predicted: 1, Actual: class    1\n",
      "Name: 25, dtype: int64\n",
      "Predicted: 1, Actual: class    1\n",
      "Name: 26, dtype: int64\n",
      "Predicted: 1, Actual: class    1\n",
      "Name: 27, dtype: int64\n",
      "Predicted: 1, Actual: class    0\n",
      "Name: 28, dtype: int64\n",
      "Predicted: 0, Actual: class    1\n",
      "Name: 29, dtype: int64\n",
      "Predicted: 1, Actual: class    1\n",
      "Name: 30, dtype: int64\n",
      "Predicted: 1, Actual: class    1\n",
      "Name: 31, dtype: int64\n",
      "Predicted: 1, Actual: class    1\n",
      "Name: 32, dtype: int64\n",
      "Predicted: 0, Actual: class    1\n",
      "Name: 33, dtype: int64\n",
      "Predicted: 1, Actual: class    0\n",
      "Name: 34, dtype: int64\n",
      "Predicted: 1, Actual: class    0\n",
      "Name: 35, dtype: int64\n",
      "Predicted: 1, Actual: class    1\n",
      "Name: 36, dtype: int64\n",
      "Predicted: 1, Actual: class    1\n",
      "Name: 37, dtype: int64\n",
      "Predicted: 1, Actual: class    1\n",
      "Name: 38, dtype: int64\n",
      "Predicted: 0, Actual: class    0\n",
      "Name: 39, dtype: int64\n",
      "Predicted: 1, Actual: class    1\n",
      "Name: 40, dtype: int64\n",
      "Predicted: 0, Actual: class    1\n",
      "Name: 41, dtype: int64\n",
      "Predicted: 0, Actual: class    0\n",
      "Name: 42, dtype: int64\n",
      "Predicted: 1, Actual: class    0\n",
      "Name: 43, dtype: int64\n",
      "Predicted: 0, Actual: class    1\n",
      "Name: 44, dtype: int64\n",
      "Predicted: 0, Actual: class    0\n",
      "Name: 45, dtype: int64\n",
      "Predicted: 1, Actual: class    1\n",
      "Name: 46, dtype: int64\n",
      "Predicted: 1, Actual: class    1\n",
      "Name: 47, dtype: int64\n",
      "Predicted: 1, Actual: class    0\n",
      "Name: 48, dtype: int64\n",
      "Predicted: 1, Actual: class    0\n",
      "Name: 49, dtype: int64\n",
      "Predicted: 0, Actual: class    0\n",
      "Name: 50, dtype: int64\n",
      "Predicted: 0, Actual: class    0\n",
      "Name: 51, dtype: int64\n",
      "Predicted: 1, Actual: class    1\n",
      "Name: 52, dtype: int64\n",
      "Predicted: 1, Actual: class    1\n",
      "Name: 53, dtype: int64\n",
      "Predicted: 1, Actual: class    1\n",
      "Name: 54, dtype: int64\n",
      "Predicted: 1, Actual: class    1\n",
      "Name: 55, dtype: int64\n",
      "Predicted: 1, Actual: class    1\n",
      "Name: 56, dtype: int64\n",
      "Predicted: 1, Actual: class    0\n",
      "Name: 57, dtype: int64\n",
      "Predicted: 1, Actual: class    0\n",
      "Name: 58, dtype: int64\n",
      "Predicted: 1, Actual: class    1\n",
      "Name: 59, dtype: int64\n",
      "Predicted: 1, Actual: class    1\n",
      "Name: 60, dtype: int64\n",
      "Predicted: 1, Actual: class    1\n",
      "Name: 61, dtype: int64\n",
      "Predicted: 1, Actual: class    0\n",
      "Name: 62, dtype: int64\n",
      "Predicted: 1, Actual: class    1\n",
      "Name: 63, dtype: int64\n",
      "Predicted: 1, Actual: class    1\n",
      "Name: 64, dtype: int64\n",
      "Predicted: 1, Actual: class    1\n",
      "Name: 65, dtype: int64\n",
      "Predicted: 1, Actual: class    1\n",
      "Name: 66, dtype: int64\n",
      "Predicted: 1, Actual: class    0\n",
      "Name: 67, dtype: int64\n",
      "Predicted: 1, Actual: class    1\n",
      "Name: 68, dtype: int64\n",
      "Predicted: 1, Actual: class    1\n",
      "Name: 69, dtype: int64\n",
      "Predicted: 1, Actual: class    0\n",
      "Name: 70, dtype: int64\n",
      "Predicted: 1, Actual: class    0\n",
      "Name: 71, dtype: int64\n",
      "Predicted: 0, Actual: class    0\n",
      "Name: 72, dtype: int64\n",
      "Predicted: 1, Actual: class    1\n",
      "Name: 73, dtype: int64\n",
      "Predicted: 1, Actual: class    0\n",
      "Name: 74, dtype: int64\n",
      "Predicted: 1, Actual: class    1\n",
      "Name: 75, dtype: int64\n",
      "Predicted: 1, Actual: class    1\n",
      "Name: 76, dtype: int64\n",
      "Predicted: 1, Actual: class    0\n",
      "Name: 77, dtype: int64\n",
      "Predicted: 1, Actual: class    1\n",
      "Name: 78, dtype: int64\n",
      "Predicted: 1, Actual: class    0\n",
      "Name: 79, dtype: int64\n",
      "Predicted: 1, Actual: class    1\n",
      "Name: 80, dtype: int64\n",
      "Predicted: 1, Actual: class    1\n",
      "Name: 81, dtype: int64\n",
      "Predicted: 1, Actual: class    1\n",
      "Name: 82, dtype: int64\n",
      "Predicted: 1, Actual: class    1\n",
      "Name: 83, dtype: int64\n",
      "Predicted: 1, Actual: class    1\n",
      "Name: 84, dtype: int64\n",
      "Predicted: 1, Actual: class    1\n",
      "Name: 85, dtype: int64\n",
      "Predicted: 1, Actual: class    0\n",
      "Name: 86, dtype: int64\n",
      "Predicted: 1, Actual: class    0\n",
      "Name: 87, dtype: int64\n",
      "Predicted: 1, Actual: class    1\n",
      "Name: 88, dtype: int64\n",
      "Predicted: 1, Actual: class    1\n",
      "Name: 89, dtype: int64\n",
      "Predicted: 1, Actual: class    1\n",
      "Name: 90, dtype: int64\n",
      "Predicted: 1, Actual: class    0\n",
      "Name: 91, dtype: int64\n",
      "Predicted: 1, Actual: class    1\n",
      "Name: 92, dtype: int64\n",
      "Predicted: 1, Actual: class    0\n",
      "Name: 93, dtype: int64\n",
      "Predicted: 1, Actual: class    1\n",
      "Name: 94, dtype: int64\n",
      "Predicted: 1, Actual: class    1\n",
      "Name: 95, dtype: int64\n",
      "Predicted: 0, Actual: class    0\n",
      "Name: 96, dtype: int64\n",
      "Predicted: 1, Actual: class    1\n",
      "Name: 97, dtype: int64\n",
      "Predicted: 1, Actual: class    1\n",
      "Name: 98, dtype: int64\n",
      "Predicted: 1, Actual: class    1\n",
      "Name: 99, dtype: int64\n",
      "Predicted: 0, Actual: class    1\n",
      "Name: 100, dtype: int64\n",
      "Predicted: 1, Actual: class    1\n",
      "Name: 101, dtype: int64\n",
      "Predicted: 0, Actual: class    0\n",
      "Name: 102, dtype: int64\n",
      "Predicted: 1, Actual: class    1\n",
      "Name: 103, dtype: int64\n",
      "Predicted: 1, Actual: class    1\n",
      "Name: 104, dtype: int64\n",
      "Predicted: 1, Actual: class    1\n",
      "Name: 105, dtype: int64\n",
      "Predicted: 1, Actual: class    1\n",
      "Name: 106, dtype: int64\n",
      "Predicted: 1, Actual: class    1\n",
      "Name: 107, dtype: int64\n",
      "Predicted: 1, Actual: class    1\n",
      "Name: 108, dtype: int64\n",
      "Predicted: 1, Actual: class    1\n",
      "Name: 109, dtype: int64\n",
      "Predicted: 1, Actual: class    1\n",
      "Name: 110, dtype: int64\n",
      "Predicted: 1, Actual: class    1\n",
      "Name: 111, dtype: int64\n",
      "Predicted: 1, Actual: class    1\n",
      "Name: 112, dtype: int64\n",
      "Predicted: 1, Actual: class    0\n",
      "Name: 113, dtype: int64\n",
      "Predicted: 1, Actual: class    1\n",
      "Name: 114, dtype: int64\n",
      "Predicted: 1, Actual: class    1\n",
      "Name: 115, dtype: int64\n",
      "Predicted: 0, Actual: class    0\n",
      "Name: 116, dtype: int64\n",
      "Predicted: 1, Actual: class    1\n",
      "Name: 117, dtype: int64\n",
      "Predicted: 0, Actual: class    0\n",
      "Name: 118, dtype: int64\n",
      "Predicted: 0, Actual: class    0\n",
      "Name: 119, dtype: int64\n",
      "Predicted: 1, Actual: class    1\n",
      "Name: 120, dtype: int64\n",
      "Predicted: 0, Actual: class    0\n",
      "Name: 121, dtype: int64\n",
      "Predicted: 1, Actual: class    1\n",
      "Name: 122, dtype: int64\n",
      "Predicted: 0, Actual: class    0\n",
      "Name: 123, dtype: int64\n",
      "Predicted: 1, Actual: class    0\n",
      "Name: 124, dtype: int64\n",
      "Predicted: 1, Actual: class    1\n",
      "Name: 125, dtype: int64\n",
      "Predicted: 1, Actual: class    0\n",
      "Name: 126, dtype: int64\n",
      "Predicted: 1, Actual: class    1\n",
      "Name: 127, dtype: int64\n",
      "Predicted: 1, Actual: class    0\n",
      "Name: 128, dtype: int64\n",
      "Predicted: 1, Actual: class    1\n",
      "Name: 129, dtype: int64\n",
      "Predicted: 1, Actual: class    1\n",
      "Name: 130, dtype: int64\n",
      "Predicted: 1, Actual: class    1\n",
      "Name: 131, dtype: int64\n",
      "Predicted: 0, Actual: class    0\n",
      "Name: 132, dtype: int64\n",
      "Predicted: 1, Actual: class    1\n",
      "Name: 133, dtype: int64\n",
      "Predicted: 1, Actual: class    0\n",
      "Name: 134, dtype: int64\n",
      "Predicted: 1, Actual: class    1\n",
      "Name: 135, dtype: int64\n",
      "Predicted: 1, Actual: class    1\n",
      "Name: 136, dtype: int64\n",
      "Predicted: 1, Actual: class    1\n",
      "Name: 137, dtype: int64\n",
      "Predicted: 0, Actual: class    0\n",
      "Name: 138, dtype: int64\n",
      "Predicted: 1, Actual: class    1\n",
      "Name: 139, dtype: int64\n",
      "Predicted: 1, Actual: class    1\n",
      "Name: 140, dtype: int64\n",
      "Predicted: 1, Actual: class    1\n",
      "Name: 141, dtype: int64\n",
      "Predicted: 1, Actual: class    1\n",
      "Name: 142, dtype: int64\n",
      "Predicted: 1, Actual: class    1\n",
      "Name: 143, dtype: int64\n",
      "Predicted: 1, Actual: class    0\n",
      "Name: 144, dtype: int64\n",
      "Predicted: 1, Actual: class    1\n",
      "Name: 145, dtype: int64\n",
      "Predicted: 0, Actual: class    1\n",
      "Name: 146, dtype: int64\n",
      "Predicted: 0, Actual: class    0\n",
      "Name: 147, dtype: int64\n",
      "Predicted: 1, Actual: class    1\n",
      "Name: 148, dtype: int64\n",
      "Predicted: 1, Actual: class    1\n",
      "Name: 149, dtype: int64\n",
      "Predicted: 1, Actual: class    1\n",
      "Name: 150, dtype: int64\n",
      "Predicted: 1, Actual: class    0\n",
      "Name: 151, dtype: int64\n",
      "Predicted: 1, Actual: class    0\n",
      "Name: 152, dtype: int64\n",
      "Predicted: 1, Actual: class    0\n",
      "Name: 153, dtype: int64\n",
      "Predicted: 1, Actual: class    1\n",
      "Name: 154, dtype: int64\n",
      "Predicted: 1, Actual: class    1\n",
      "Name: 155, dtype: int64\n",
      "Predicted: 1, Actual: class    0\n",
      "Name: 156, dtype: int64\n",
      "Predicted: 0, Actual: class    1\n",
      "Name: 157, dtype: int64\n",
      "Predicted: 0, Actual: class    0\n",
      "Name: 158, dtype: int64\n",
      "Predicted: 1, Actual: class    1\n",
      "Name: 159, dtype: int64\n",
      "Predicted: 0, Actual: class    0\n",
      "Name: 160, dtype: int64\n",
      "Predicted: 1, Actual: class    0\n",
      "Name: 161, dtype: int64\n",
      "Predicted: 1, Actual: class    1\n",
      "Name: 162, dtype: int64\n",
      "Predicted: 1, Actual: class    1\n",
      "Name: 163, dtype: int64\n",
      "Predicted: 1, Actual: class    1\n",
      "Name: 164, dtype: int64\n",
      "Predicted: 1, Actual: class    1\n",
      "Name: 165, dtype: int64\n",
      "Predicted: 1, Actual: class    1\n",
      "Name: 166, dtype: int64\n",
      "Predicted: 1, Actual: class    1\n",
      "Name: 167, dtype: int64\n",
      "Predicted: 1, Actual: class    1\n",
      "Name: 168, dtype: int64\n",
      "Predicted: 1, Actual: class    1\n",
      "Name: 169, dtype: int64\n",
      "Predicted: 1, Actual: class    1\n",
      "Name: 170, dtype: int64\n",
      "Predicted: 0, Actual: class    0\n",
      "Name: 171, dtype: int64\n",
      "Predicted: 1, Actual: class    0\n",
      "Name: 172, dtype: int64\n",
      "Predicted: 1, Actual: class    1\n",
      "Name: 173, dtype: int64\n",
      "Predicted: 1, Actual: class    1\n",
      "Name: 174, dtype: int64\n",
      "Predicted: 1, Actual: class    1\n",
      "Name: 175, dtype: int64\n",
      "Predicted: 0, Actual: class    0\n",
      "Name: 176, dtype: int64\n",
      "Predicted: 1, Actual: class    1\n",
      "Name: 177, dtype: int64\n",
      "Predicted: 1, Actual: class    1\n",
      "Name: 178, dtype: int64\n",
      "Predicted: 1, Actual: class    0\n",
      "Name: 179, dtype: int64\n",
      "Predicted: 1, Actual: class    1\n",
      "Name: 180, dtype: int64\n",
      "Predicted: 1, Actual: class    1\n",
      "Name: 181, dtype: int64\n",
      "Predicted: 0, Actual: class    0\n",
      "Name: 182, dtype: int64\n",
      "Predicted: 1, Actual: class    0\n",
      "Name: 183, dtype: int64\n",
      "Predicted: 1, Actual: class    1\n",
      "Name: 184, dtype: int64\n",
      "Predicted: 1, Actual: class    1\n",
      "Name: 185, dtype: int64\n",
      "Predicted: 1, Actual: class    0\n",
      "Name: 186, dtype: int64\n",
      "Predicted: 1, Actual: class    1\n",
      "Name: 187, dtype: int64\n",
      "Predicted: 1, Actual: class    0\n",
      "Name: 188, dtype: int64\n",
      "Predicted: 1, Actual: class    1\n",
      "Name: 189, dtype: int64\n",
      "Predicted: 1, Actual: class    1\n",
      "Name: 190, dtype: int64\n",
      "Predicted: 1, Actual: class    0\n",
      "Name: 191, dtype: int64\n"
     ]
    }
   ],
   "source": [
    "import pandas as pd\n",
    "import numpy as np\n",
    "\n",
    "# ... (previous code to create X_test and y_test)\n",
    "from sklearn.model_selection import train_test_split\n",
    "# Assuming X_normalized contains the input features and y contains the target variable\n",
    "X_train, X_test, y_train, y_test = train_test_split(X_normalized, y, test_size=0.2, random_state=42)\n",
    "\n",
    "# Convert X_test and y_test to DataFrames if they are NumPy arrays\n",
    "X_test_df = pd.DataFrame(X_test, columns=['TL', 'TM', 'TR', 'ML', 'MM', 'MR', 'BL', 'BM', 'BR'])  # Replace with the actual column names\n",
    "y_test_df = pd.DataFrame(y_test, columns=['class'])  # Replace 'class' with the actual output column name\n",
    "\n",
    "# Reset the indices\n",
    "X_test_df.reset_index(drop=True, inplace=True)\n",
    "y_test_df.reset_index(drop=True, inplace=True)\n",
    "\n",
    "# Generate predictions using the loaded model\n",
    "predictions = loaded_model.predict(X_test_df)\n",
    "# 'tic-tac-toe.keras' is a variable, Python interprets as an undefined name\n",
    "\n",
    "# Compare predictions with actual labels\n",
    "for i in range(len(predictions)):\n",
    "    print(f'Predicted: {np.argmax(predictions[i])}, Actual: {y_test_df.iloc[i]}')"
   ]
  },
  {
   "cell_type": "markdown",
   "metadata": {},
   "source": [
    "## Step 4: Improve Your Model\n",
    "\n",
    "Did your model achieve low loss (<0.1) and high accuracy (>0.95)? If not, try to improve your model.\n",
    "\n",
    "But how? There are so many things you can play with in Tensorflow and in the next challenge you'll learn about these things. But in this challenge, let's just do a few things to see if they will help.\n",
    "\n",
    "* Add more layers to your model. If the data are complex you need more layers. But don't use more layers than you need. If adding more layers does not improve the model performance you don't need additional layers.\n",
    "* Adjust the learning rate when you compile the model. This means you will create a custom `tf.keras.optimizers.Adam` instance where you specify the learning rate you want. Then pass the instance to `model.compile` as the optimizer.\n",
    "    * `tf.keras.optimizers.Adam` [reference](https://www.tensorflow.org/api_docs/python/tf/keras/optimizers/Adam).\n",
    "    * Don't worry if you don't understand what the learning rate does. You'll learn about it in the next challenge.\n",
    "* Adjust the number of epochs when you fit the training data to the model. Your model performance continues to improve as you train more epochs. But eventually it will reach the ceiling and the performance will stay the same."
   ]
  },
  {
   "cell_type": "code",
   "execution_count": 50,
   "metadata": {},
   "outputs": [
    {
     "name": "stderr",
     "output_type": "stream",
     "text": [
      "c:\\Users\\Latif-Calderón\\AppData\\Local\\Programs\\Python\\Python310\\lib\\site-packages\\keras\\src\\layers\\core\\dense.py:87: UserWarning: Do not pass an `input_shape`/`input_dim` argument to a layer. When using Sequential models, prefer using an `Input(shape)` object as the first layer in the model instead.\n",
      "  super().__init__(activity_regularizer=activity_regularizer, **kwargs)\n"
     ]
    }
   ],
   "source": [
    "# your code here\n",
    "#add more layers\n",
    "from tensorflow.keras.models import Sequential\n",
    "from tensorflow.keras.layers import Dense\n",
    "\n",
    "# Create a new Sequential model\n",
    "improved_model = Sequential([\n",
    "    Dense(100, activation='relu', input_shape=(input_shape,)),\n",
    "    Dense(80, activation='relu'),  # Additional hidden layer\n",
    "    Dense(50, activation='relu'),   # Additional hidden layer\n",
    "    Dense(30, activation='softmax')\n",
    "])\n",
    "\n",
    "# Compile the model\n",
    "improved_model.compile(optimizer='adam', loss='sparse_categorical_crossentropy', metrics=['accuracy'])"
   ]
  },
  {
   "cell_type": "code",
   "execution_count": 51,
   "metadata": {},
   "outputs": [
    {
     "name": "stdout",
     "output_type": "stream",
     "text": [
      "\u001b[1m6/6\u001b[0m \u001b[32m━━━━━━━━━━━━━━━━━━━━\u001b[0m\u001b[37m\u001b[0m \u001b[1m0s\u001b[0m 7ms/step - accuracy: 0.0096 - loss: 3.4706      \n",
      "Test accuracy: 0.0104\n",
      "Test loss: 3.4698\n"
     ]
    }
   ],
   "source": [
    "#6. Evaluate your neural network model with the test data.\n",
    "loss, accuracy = improved_model.evaluate(X_test, y_test)\n",
    "\n",
    "print(f'Test accuracy: {accuracy:.4f}')\n",
    "print(f'Test loss: {loss:.4f}')"
   ]
  },
  {
   "cell_type": "code",
   "execution_count": 52,
   "metadata": {},
   "outputs": [
    {
     "data": {
      "text/html": [
       "<pre style=\"white-space:pre;overflow-x:auto;line-height:normal;font-family:Menlo,'DejaVu Sans Mono',consolas,'Courier New',monospace\"><span style=\"font-weight: bold\">Model: \"sequential_5\"</span>\n",
       "</pre>\n"
      ],
      "text/plain": [
       "\u001b[1mModel: \"sequential_5\"\u001b[0m\n"
      ]
     },
     "metadata": {},
     "output_type": "display_data"
    },
    {
     "data": {
      "text/html": [
       "<pre style=\"white-space:pre;overflow-x:auto;line-height:normal;font-family:Menlo,'DejaVu Sans Mono',consolas,'Courier New',monospace\">┏━━━━━━━━━━━━━━━━━━━━━━━━━━━━━━━━━┳━━━━━━━━━━━━━━━━━━━━━━━━┳━━━━━━━━━━━━━━━┓\n",
       "┃<span style=\"font-weight: bold\"> Layer (type)                    </span>┃<span style=\"font-weight: bold\"> Output Shape           </span>┃<span style=\"font-weight: bold\">       Param # </span>┃\n",
       "┡━━━━━━━━━━━━━━━━━━━━━━━━━━━━━━━━━╇━━━━━━━━━━━━━━━━━━━━━━━━╇━━━━━━━━━━━━━━━┩\n",
       "│ dense_24 (<span style=\"color: #0087ff; text-decoration-color: #0087ff\">Dense</span>)                │ (<span style=\"color: #00d7ff; text-decoration-color: #00d7ff\">None</span>, <span style=\"color: #00af00; text-decoration-color: #00af00\">100</span>)            │         <span style=\"color: #00af00; text-decoration-color: #00af00\">1,000</span> │\n",
       "├─────────────────────────────────┼────────────────────────┼───────────────┤\n",
       "│ dense_25 (<span style=\"color: #0087ff; text-decoration-color: #0087ff\">Dense</span>)                │ (<span style=\"color: #00d7ff; text-decoration-color: #00d7ff\">None</span>, <span style=\"color: #00af00; text-decoration-color: #00af00\">80</span>)             │         <span style=\"color: #00af00; text-decoration-color: #00af00\">8,080</span> │\n",
       "├─────────────────────────────────┼────────────────────────┼───────────────┤\n",
       "│ dense_26 (<span style=\"color: #0087ff; text-decoration-color: #0087ff\">Dense</span>)                │ (<span style=\"color: #00d7ff; text-decoration-color: #00d7ff\">None</span>, <span style=\"color: #00af00; text-decoration-color: #00af00\">50</span>)             │         <span style=\"color: #00af00; text-decoration-color: #00af00\">4,050</span> │\n",
       "├─────────────────────────────────┼────────────────────────┼───────────────┤\n",
       "│ dense_27 (<span style=\"color: #0087ff; text-decoration-color: #0087ff\">Dense</span>)                │ (<span style=\"color: #00d7ff; text-decoration-color: #00d7ff\">None</span>, <span style=\"color: #00af00; text-decoration-color: #00af00\">30</span>)             │         <span style=\"color: #00af00; text-decoration-color: #00af00\">1,530</span> │\n",
       "└─────────────────────────────────┴────────────────────────┴───────────────┘\n",
       "</pre>\n"
      ],
      "text/plain": [
       "┏━━━━━━━━━━━━━━━━━━━━━━━━━━━━━━━━━┳━━━━━━━━━━━━━━━━━━━━━━━━┳━━━━━━━━━━━━━━━┓\n",
       "┃\u001b[1m \u001b[0m\u001b[1mLayer (type)                   \u001b[0m\u001b[1m \u001b[0m┃\u001b[1m \u001b[0m\u001b[1mOutput Shape          \u001b[0m\u001b[1m \u001b[0m┃\u001b[1m \u001b[0m\u001b[1m      Param #\u001b[0m\u001b[1m \u001b[0m┃\n",
       "┡━━━━━━━━━━━━━━━━━━━━━━━━━━━━━━━━━╇━━━━━━━━━━━━━━━━━━━━━━━━╇━━━━━━━━━━━━━━━┩\n",
       "│ dense_24 (\u001b[38;5;33mDense\u001b[0m)                │ (\u001b[38;5;45mNone\u001b[0m, \u001b[38;5;34m100\u001b[0m)            │         \u001b[38;5;34m1,000\u001b[0m │\n",
       "├─────────────────────────────────┼────────────────────────┼───────────────┤\n",
       "│ dense_25 (\u001b[38;5;33mDense\u001b[0m)                │ (\u001b[38;5;45mNone\u001b[0m, \u001b[38;5;34m80\u001b[0m)             │         \u001b[38;5;34m8,080\u001b[0m │\n",
       "├─────────────────────────────────┼────────────────────────┼───────────────┤\n",
       "│ dense_26 (\u001b[38;5;33mDense\u001b[0m)                │ (\u001b[38;5;45mNone\u001b[0m, \u001b[38;5;34m50\u001b[0m)             │         \u001b[38;5;34m4,050\u001b[0m │\n",
       "├─────────────────────────────────┼────────────────────────┼───────────────┤\n",
       "│ dense_27 (\u001b[38;5;33mDense\u001b[0m)                │ (\u001b[38;5;45mNone\u001b[0m, \u001b[38;5;34m30\u001b[0m)             │         \u001b[38;5;34m1,530\u001b[0m │\n",
       "└─────────────────────────────────┴────────────────────────┴───────────────┘\n"
      ]
     },
     "metadata": {},
     "output_type": "display_data"
    },
    {
     "data": {
      "text/html": [
       "<pre style=\"white-space:pre;overflow-x:auto;line-height:normal;font-family:Menlo,'DejaVu Sans Mono',consolas,'Courier New',monospace\"><span style=\"font-weight: bold\"> Total params: </span><span style=\"color: #00af00; text-decoration-color: #00af00\">14,660</span> (57.27 KB)\n",
       "</pre>\n"
      ],
      "text/plain": [
       "\u001b[1m Total params: \u001b[0m\u001b[38;5;34m14,660\u001b[0m (57.27 KB)\n"
      ]
     },
     "metadata": {},
     "output_type": "display_data"
    },
    {
     "data": {
      "text/html": [
       "<pre style=\"white-space:pre;overflow-x:auto;line-height:normal;font-family:Menlo,'DejaVu Sans Mono',consolas,'Courier New',monospace\"><span style=\"font-weight: bold\"> Trainable params: </span><span style=\"color: #00af00; text-decoration-color: #00af00\">14,660</span> (57.27 KB)\n",
       "</pre>\n"
      ],
      "text/plain": [
       "\u001b[1m Trainable params: \u001b[0m\u001b[38;5;34m14,660\u001b[0m (57.27 KB)\n"
      ]
     },
     "metadata": {},
     "output_type": "display_data"
    },
    {
     "data": {
      "text/html": [
       "<pre style=\"white-space:pre;overflow-x:auto;line-height:normal;font-family:Menlo,'DejaVu Sans Mono',consolas,'Courier New',monospace\"><span style=\"font-weight: bold\"> Non-trainable params: </span><span style=\"color: #00af00; text-decoration-color: #00af00\">0</span> (0.00 B)\n",
       "</pre>\n"
      ],
      "text/plain": [
       "\u001b[1m Non-trainable params: \u001b[0m\u001b[38;5;34m0\u001b[0m (0.00 B)\n"
      ]
     },
     "metadata": {},
     "output_type": "display_data"
    }
   ],
   "source": [
    "improved_model.summary()"
   ]
  },
  {
   "cell_type": "markdown",
   "metadata": {},
   "source": [
    "**Which approach(es) did you find helpful to improve your model performance?**"
   ]
  },
  {
   "cell_type": "code",
   "execution_count": null,
   "metadata": {},
   "outputs": [],
   "source": [
    "# your answer here"
   ]
  }
 ],
 "metadata": {
  "kernelspec": {
   "display_name": "Python 3",
   "language": "python",
   "name": "python3"
  },
  "language_info": {
   "codemirror_mode": {
    "name": "ipython",
    "version": 3
   },
   "file_extension": ".py",
   "mimetype": "text/x-python",
   "name": "python",
   "nbconvert_exporter": "python",
   "pygments_lexer": "ipython3",
   "version": "3.10.0"
  }
 },
 "nbformat": 4,
 "nbformat_minor": 2
}
